{
  "nbformat": 4,
  "nbformat_minor": 0,
  "metadata": {
    "colab": {
      "name": "OurFirstHTML.ipynb",
      "provenance": [],
      "collapsed_sections": [],
      "include_colab_link": true
    },
    "kernelspec": {
      "name": "python3",
      "display_name": "Python 3"
    }
  },
  "cells": [
    {
      "cell_type": "markdown",
      "metadata": {
        "id": "view-in-github",
        "colab_type": "text"
      },
      "source": [
        "<a href=\"https://colab.research.google.com/github/Kgl5094/Testing-2/blob/main/OurFirstHTML.ipynb\" target=\"_parent\"><img src=\"https://colab.research.google.com/assets/colab-badge.svg\" alt=\"Open In Colab\"/></a>"
      ]
    },
    {
      "cell_type": "markdown",
      "metadata": {
        "id": "p6cs9w7-r3da"
      },
      "source": [
        "# Our First HTML Exercise\n",
        "\n"
      ]
    },
    {
      "cell_type": "markdown",
      "metadata": {
        "id": "eC6r9Owroe9W"
      },
      "source": [
        "For our first HTML notebook we will be thinking about the following 5 steps:\n",
        "\n",
        "1. Start with content\n",
        "1. Give the document structure\n",
        "1. Identify text elements\n",
        "1. Add an image\n",
        "1. Change how the text looks with style sheets"
      ]
    },
    {
      "cell_type": "markdown",
      "metadata": {
        "id": "HcT0g_wPr2j7"
      },
      "source": [
        "## Our first exercise (Just the content)\n",
        "\n",
        "Note, this is from:\n",
        "\n",
        "-- Robbins, J. N. (2018). Learning web design: A beginner's guide to HTML, CSS, JavaScript, and web graphics. 5th Edition \" O'Reilly Media, Inc.\".\n",
        "\n",
        "Link: https://www.learningwebdesign.com/5e/materials/index.html "
      ]
    },
    {
      "cell_type": "code",
      "metadata": {
        "id": "YmxOEW2NoaWC",
        "outputId": "5563b1fa-d0ef-4639-d068-43f6c50564c8",
        "colab": {
          "base_uri": "https://localhost:8080/",
          "height": 68
        }
      },
      "source": [
        "%%html\n",
        "Black Goose Bistro\n",
        "\n",
        "The Restaurant\n",
        "The Black Goose Bistro offers casual lunch and dinner fare in a relaxed atmosphere. The menu changes regularly to highlight the freshest local ingredients.\n",
        "\n",
        "Catering\n",
        "You have fun. We'll handle the cooking. Black Goose Catering can handle events from snacks for a meetup to elegant corporate fundraisers.\n",
        "\n",
        "Location and Hours\n",
        "Seekonk, Massachusetts;\n",
        "Monday through Thursday 11am to 9pm; Friday and Saturday, 11am to midnight"
      ],
      "execution_count": null,
      "outputs": [
        {
          "output_type": "display_data",
          "data": {
            "text/html": [
              "Black Goose Bistro\n",
              "\n",
              "The Restaurant\n",
              "The Black Goose Bistro offers casual lunch and dinner fare in a relaxed atmosphere. The menu changes regularly to highlight the freshest local ingredients.\n",
              "\n",
              "Catering\n",
              "You have fun. We'll handle the cooking. Black Goose Catering can handle events from snacks for a meetup to elegant corporate fundraisers.\n",
              "\n",
              "Location and Hours\n",
              "Seekonk, Massachusetts;\n",
              "Monday through Thursday 11am to 9pm; Friday and Saturday, 11am to midnight"
            ],
            "text/plain": [
              "<IPython.core.display.HTML object>"
            ]
          },
          "metadata": {
            "tags": []
          }
        }
      ]
    },
    {
      "cell_type": "markdown",
      "metadata": {
        "id": "8L2Xu1xEscyh"
      },
      "source": [
        "There are 4 ways to run this file:\n",
        "\n",
        "1. In Google Colab\n",
        "\n",
        "2. Locally, on your machine \n",
        "\n",
        "3. Go to: https://www.up.ist.psu.edu/ (WEB SPACE)\n",
        "\n",
        "4. Go to: https://www.personal.psu.edu/ "
      ]
    },
    {
      "cell_type": "markdown",
      "metadata": {
        "id": "1rMSQNcfsFfK"
      },
      "source": [
        "Remember, for our purposes, we will be using [Nu Html Checker](https://validator.w3.org/nu) and its guidelines to format our HTML. Let's see how this looks. "
      ]
    },
    {
      "cell_type": "markdown",
      "metadata": {
        "id": "Mx8uex38snUY"
      },
      "source": [
        "## HTML Structure"
      ]
    },
    {
      "cell_type": "markdown",
      "metadata": {
        "id": "vmO0DIolsWX8"
      },
      "source": [
        "First, a couple of things to point out. One, HTML uses **opening and closing tags**, and then some **content** in the middle. \n",
        "\n",
        "```html\n",
        "<tag> text </tag>\n",
        "```\n",
        "These tags are also called **markup** and the entire markup + content = **element**.\n",
        "\n",
        "HTML is a bit difficult to discuss because it is not very strict with these tags. For our purposes, we will be using [Nu Html Checker](https://validator.w3.org/nu) and its guidelines to format our HTML. Some of the basic rules:\n",
        "\n",
        "1) Include the **document type declaration**, this tells the browser that this is an HTML5 document. \n",
        "\n",
        "```html\n",
        "<!DOCTYPE html>\n",
        "```\n",
        "\n",
        "2) Include the language of the given document \n",
        "\n",
        "```html\n",
        "<html lang=\"en\">\n",
        "```\n",
        "\n",
        "3) tags are all lowercase\n",
        "\n",
        "4) there is always an opening and closing tag\n",
        "\n",
        "5) tags are not mismatched, as in:\n",
        "\n",
        "```html\n",
        "<div><p></div></p> (incorrect!)\n",
        "\n",
        "<div><p></p></div> (correct!)\n",
        "```"
      ]
    },
    {
      "cell_type": "markdown",
      "metadata": {
        "id": "rDMb5vNFtcZa"
      },
      "source": [
        "![DOM](https://raw.githubusercontent.com/dudaspm/Fall2020/master/Introduction%20to%20Web%20Design%20and%20Development/images/graph1.svg)"
      ]
    },
    {
      "cell_type": "code",
      "metadata": {
        "id": "tSiP8nHksAxY",
        "outputId": "ae88230f-1eff-4e60-a353-c9b93e133154",
        "colab": {
          "base_uri": "https://localhost:8080/",
          "height": 68
        }
      },
      "source": [
        "%%html\n",
        "<!DOCTYPE html>\n",
        "<html>\n",
        "\n",
        "<head>\n",
        "<meta charset=\"utf-8\"> <!-- metadata about our document and the charset we are using, in this case UTF-8 (we will talk about this more later in the semester) -->\n",
        "<title>Black Goose Bistro</title>\n",
        "</head>\n",
        "\n",
        "<body>\n",
        "\n",
        "Black Goose Bistro\n",
        "\n",
        "The Restaurant\n",
        "The Black Goose Bistro offers casual lunch and dinner fare in a relaxed atmosphere. The menu changes regularly to highlight the freshest local ingredients.\n",
        "\n",
        "Catering\n",
        "You have fun. We'll handle the cooking. Black Goose Catering can handle events from snacks for a meetup to elegant corporate fundraisers.\n",
        "\n",
        "Location and Hours\n",
        "Seekonk, Massachusetts;\n",
        "Monday through Thursday 11am to 9pm; Friday and Saturday, 11am to midnight\n",
        "\n",
        "</body>\n",
        "\n",
        "</html>"
      ],
      "execution_count": null,
      "outputs": [
        {
          "output_type": "display_data",
          "data": {
            "text/html": [
              "<!DOCTYPE html>\n",
              "<html>\n",
              "\n",
              "<head>\n",
              "<meta charset=\"utf-8\"> <!-- metadata about our document and the charset we are using, in this case UTF-8 (we will talk about this more later in the semester) -->\n",
              "<title>Black Goose Bistro</title>\n",
              "</head>\n",
              "\n",
              "<body>\n",
              "\n",
              "Black Goose Bistro\n",
              "\n",
              "The Restaurant\n",
              "The Black Goose Bistro offers casual lunch and dinner fare in a relaxed atmosphere. The menu changes regularly to highlight the freshest local ingredients.\n",
              "\n",
              "Catering\n",
              "You have fun. We'll handle the cooking. Black Goose Catering can handle events from snacks for a meetup to elegant corporate fundraisers.\n",
              "\n",
              "Location and Hours\n",
              "Seekonk, Massachusetts;\n",
              "Monday through Thursday 11am to 9pm; Friday and Saturday, 11am to midnight\n",
              "\n",
              "</body>\n",
              "\n",
              "</html>"
            ],
            "text/plain": [
              "<IPython.core.display.HTML object>"
            ]
          },
          "metadata": {
            "tags": []
          }
        }
      ]
    },
    {
      "cell_type": "markdown",
      "metadata": {
        "id": "tEQRXasOuCme"
      },
      "source": [
        "## Text Elements"
      ]
    },
    {
      "cell_type": "markdown",
      "metadata": {
        "id": "d3KwI2scw9Vf"
      },
      "source": [
        "> \"The purpose of HTML is to add meaning and structure to the content. It is not intended to describe how the content should look. (pg. 59).\"\n",
        "\n",
        "*Robbins, J. N. (2018). Learning web design: A beginner's guide to HTML, CSS, JavaScript, and web graphics. 5th Edition \" O'Reilly Media, Inc.\".*\n",
        "\n",
        "What we are adding to HTML is the **semantic markup**."
      ]
    },
    {
      "cell_type": "markdown",
      "metadata": {
        "id": "gqI_qlr6x7Ey"
      },
      "source": [
        "### New Element\n",
        "\n",
        "- headings\n",
        "```html\n",
        "<h1> heading 1 </h1>\n",
        "<h2> heading 2 </h2>\n",
        "<h3> heading 3 </h3>\n",
        "<h4> heading 4 </h4>\n",
        "<h5> heading 5 </h5>\n",
        "```\n",
        "- paragraph\n",
        "```html\n",
        "<p> paragraph </p>\n",
        "```\n",
        "\n",
        "- emphasized text\n",
        "```html\n",
        "<em> emphasized text </em>\n",
        "```\n",
        "\n",
        "#### Block elements\n",
        "\n",
        "elements that HTML treats as a block of text (a newline is added)\n",
        "\n",
        "- heading and paragraph\n",
        "\n",
        "\n",
        "#### Inline elements\n",
        "\n",
        "elements that HTML treats as part of the given text, content, or blocks\n",
        "\n",
        "- emphasized text\n"
      ]
    },
    {
      "cell_type": "code",
      "metadata": {
        "id": "f2xzG_94tmol",
        "outputId": "3bba71f6-98d4-467b-9772-cdd81b94dc50",
        "colab": {
          "base_uri": "https://localhost:8080/",
          "height": 277
        }
      },
      "source": [
        "%%html \n",
        "<!DOCTYPE html>\n",
        "<html>\n",
        "\n",
        "<head>\n",
        "<meta charset=\"utf-8\">\n",
        "<title>Black Goose Bistro</title>\n",
        "</head>\n",
        "\n",
        "<body>\n",
        "\n",
        "<h1>Black Goose Bistro</h1>\n",
        "\n",
        "<h2>The Restaurant</h2>\n",
        "<p>The Black Goose Bistro offers casual lunch and dinner fare in a relaxed atmosphere. The menu changes regularly to highlight the freshest local ingredients.</p>\n",
        "\n",
        "<h2>Catering</h2>\n",
        "<p>You have fun. <em>We'll handle the cooking.</em> Black Goose Catering can handle events from snacks for a meetup to elegant corporate fundraisers.</p>\n",
        "\n",
        "<h2>Location and Hours</h2>\n",
        "<p>Seekonk, Massachusetts;\n",
        "Monday through Thursday 11am to 9pm; Friday and Saturday, 11am to midnight</p>\n",
        "\n",
        "</body>\n",
        "\n",
        "</html>"
      ],
      "execution_count": null,
      "outputs": [
        {
          "output_type": "display_data",
          "data": {
            "text/html": [
              "<!DOCTYPE html>\n",
              "<html>\n",
              "\n",
              "<head>\n",
              "<meta charset=\"utf-8\">\n",
              "<title>Black Goose Bistro</title>\n",
              "</head>\n",
              "\n",
              "<body>\n",
              "\n",
              "<h1>Black Goose Bistro</h1>\n",
              "\n",
              "<h2>The Restaurant</h2>\n",
              "<p>The Black Goose Bistro offers casual lunch and dinner fare in a relaxed atmosphere. The menu changes regularly to highlight the freshest local ingredients.</p>\n",
              "\n",
              "<h2>Catering</h2>\n",
              "<p>You have fun. <em>We'll handle the cooking.</em> Black Goose Catering can handle events from snacks for a meetup to elegant corporate fundraisers.</p>\n",
              "\n",
              "<h2>Location and Hours</h2>\n",
              "<p>Seekonk, Massachusetts;\n",
              "Monday through Thursday 11am to 9pm; Friday and Saturday, 11am to midnight</p>\n",
              "\n",
              "</body>\n",
              "\n",
              "</html>"
            ],
            "text/plain": [
              "<IPython.core.display.HTML object>"
            ]
          },
          "metadata": {
            "tags": []
          }
        }
      ]
    },
    {
      "cell_type": "markdown",
      "metadata": {
        "id": "TUltixBEzTkB"
      },
      "source": [
        "Let's take a look at the Developer Tools"
      ]
    },
    {
      "cell_type": "markdown",
      "metadata": {
        "id": "iz5az49fXkvb"
      },
      "source": [
        "## Adding an Image"
      ]
    },
    {
      "cell_type": "markdown",
      "metadata": {
        "id": "JucLi2cXXsGB"
      },
      "source": [
        "### Empty Elements\n",
        "\n",
        "When an element lacks or does have content associated with the element, it is considered an Empty Element. One example is the line break:\n",
        "\n",
        "Adding a return or line break in your code:\n",
        "```html\n",
        "<br>\n",
        "```\n",
        "\n",
        "another example is the image tag or element \n",
        "```html\n",
        "<img>\n",
        "```\n",
        "\n",
        "Though, as is, the image element needs to include additional information, referred to as **attributes**. \n",
        "\n",
        "### Attributes\n",
        "\n",
        "As it sounds, attributes provide additional details to elements. The way we specify attributes is to include the name of the attribute and the value of the attribute.\n",
        "```html\n",
        "attribute=\"value\"\n",
        "```\n",
        "\n",
        "For images, we need to tell the browser the location of the image, whether local or online. For example, when referencing the source of the image, we could use:\n",
        "\n",
        "```html\n",
        "<img src=\"location of file\">\n",
        "```\n",
        "\n",
        "Here is an example:\n",
        "\n",
        "```html\n",
        "<img src=\"https://raw.githubusercontent.com/dudaspm/ProjectiOn/master/D3Tutorial/Images/circle_1.PNG\">\n",
        "```\n",
        "\n",
        "<img src=\"https://raw.githubusercontent.com/dudaspm/ProjectiOn/master/D3Tutorial/Images/circle_1.PNG\">\n",
        "\n",
        "Similiar to the way we added images in markdown, we also want to include alternative text or alt. \n",
        "```html\n",
        "<img src=\"https://raw.githubusercontent.com/dudaspm/ProjectiOn/master/D3Tutorial/Images/circle_1.PNG\" alt=\"Circle drawn on paper\">\n",
        "```\n",
        "\n",
        "<img src=\"https://raw.githubusercontent.com/dudaspm/ProjectiOn/master/D3Tutorial/Images/circle_1.PNG\" alt=\"Circle drawn on paper\">\n",
        "\n",
        "There are more attributes available for images; check out [w3schools](https://www.w3schools.com/tags/tag_img.asp) for more examples. For now, we can use these two attributes. \n",
        "\n"
      ]
    },
    {
      "cell_type": "markdown",
      "metadata": {
        "id": "0gX8bx-sWKlc"
      },
      "source": [
        "Some specific rules about **attributes**:\n",
        "\n",
        "1. attributes are added into the opening tag\n",
        "1. attributes are added after the element name \n",
        "1. order of the attributes does not matter\n",
        "1. Both single and double quotes work, but double quotes are the standard\n",
        "1. you can add additional attributes that are not part of the HTML specification; they just won't do anything\n",
        "\n",
        "\n",
        "```html\n",
        "<img src=\"https://raw.githubusercontent.com/dudaspm/ProjectiOn/master/D3Tutorial/Images/circle_1.PNG\" alt=\"Circle drawn on paper\">\n",
        "```"
      ]
    },
    {
      "cell_type": "code",
      "metadata": {
        "id": "RfaFjqrf6HXu",
        "outputId": "08d1c3a2-82a4-48a8-e8c0-f9661dfc1033",
        "colab": {
          "base_uri": "https://localhost:8080/",
          "height": 47
        }
      },
      "source": [
        "%%html\n",
        "<p section=\"3rdchapter\" page=\"120\"> some text </p>"
      ],
      "execution_count": null,
      "outputs": [
        {
          "output_type": "display_data",
          "data": {
            "text/html": [
              "<p section=\"3rdchapter\" page=\"120\"> some text </p>"
            ],
            "text/plain": [
              "<IPython.core.display.HTML object>"
            ]
          },
          "metadata": {
            "tags": []
          }
        }
      ]
    },
    {
      "cell_type": "markdown",
      "metadata": {
        "id": "HwJONHyZP_lY"
      },
      "source": [
        "Let's updated our example with an image. \n",
        "\n",
        "**Note** we will be discussing two types of image srcs:\n",
        "1. Absolute File Paths (we are using this for now)\n",
        "1. Relative File Paths\n",
        "\n"
      ]
    },
    {
      "cell_type": "code",
      "metadata": {
        "id": "0peinMWwfcSI",
        "outputId": "ca30cc2c-2e17-4e7d-ff24-03e686b5af9d",
        "colab": {
          "base_uri": "https://localhost:8080/",
          "height": 495
        }
      },
      "source": [
        "%%html\n",
        "<!DOCTYPE html>\n",
        "<html>\n",
        "\n",
        "  <head>\n",
        "    <meta charset=\"utf-8\">\n",
        "    <title>Black Goose Bistro</title>\n",
        "  </head>\n",
        "\n",
        "  <body>\n",
        "\n",
        "    <h1><img src=\"http://learningwebdesign.com/4e/materials/chapter04/bistro/blackgoose.png\" alt=\"logo\"><br>Black Goose Bistro</h1>\n",
        "\n",
        "    <h2>The Restaurant</h2>\n",
        "    <p>The Black Goose Bistro offers casual lunch and dinner fare in a relaxed atmosphere. The menu changes regularly to highlight the freshest local ingredients.</p>\n",
        "\n",
        "    <h2>Catering</h2>\n",
        "    <p>You have fun. <em>We'll handle the cooking.</em> Black Goose Catering can handle events from snacks for a meetup to elegant corporate fundraisers.</p>\n",
        "\n",
        "    <h2>Location and Hours</h2>\n",
        "    <p>Seekonk, Massachusetts;<br>\n",
        "    Monday through Thursday 11am to 9pm;<br> Friday and Saturday, 11am to midnight</p>\n",
        "\n",
        "  </body>\n",
        "\n",
        "</html>"
      ],
      "execution_count": null,
      "outputs": [
        {
          "output_type": "display_data",
          "data": {
            "text/html": [
              "<!DOCTYPE html>\n",
              "<html>\n",
              "\n",
              "  <head>\n",
              "    <meta charset=\"utf-8\">\n",
              "    <title>Black Goose Bistro</title>\n",
              "  </head>\n",
              "\n",
              "  <body>\n",
              "\n",
              "    <h1><img src=\"http://learningwebdesign.com/4e/materials/chapter04/bistro/blackgoose.png\" alt=\"logo\"><br>Black Goose Bistro</h1>\n",
              "\n",
              "    <h2>The Restaurant</h2>\n",
              "    <p>The Black Goose Bistro offers casual lunch and dinner fare in a relaxed atmosphere. The menu changes regularly to highlight the freshest local ingredients.</p>\n",
              "\n",
              "    <h2>Catering</h2>\n",
              "    <p>You have fun. <em>We'll handle the cooking.</em> Black Goose Catering can handle events from snacks for a meetup to elegant corporate fundraisers.</p>\n",
              "\n",
              "    <h2>Location and Hours</h2>\n",
              "    <p>Seekonk, Massachusetts;<br>\n",
              "    Monday through Thursday 11am to 9pm;<br> Friday and Saturday, 11am to midnight</p>\n",
              "\n",
              "  </body>\n",
              "\n",
              "</html>"
            ],
            "text/plain": [
              "<IPython.core.display.HTML object>"
            ]
          },
          "metadata": {
            "tags": []
          }
        }
      ]
    },
    {
      "cell_type": "markdown",
      "metadata": {
        "id": "eE1BdkDAWApN"
      },
      "source": [
        "## CSS"
      ]
    },
    {
      "cell_type": "markdown",
      "metadata": {
        "id": "1CFfNQz0YRGx"
      },
      "source": [
        "As mentioned before, we use HTML to create the structure and CSS to style the structure. Think of this as a house or building. You are building the structure of the house or building, so it is functionally strong and provides utility. Then you paint, decorate, and design with the structure in mind. "
      ]
    },
    {
      "cell_type": "code",
      "metadata": {
        "id": "YIC1Esb6V1Bh",
        "outputId": "65df33e0-52f4-4860-a3f9-3da0fc3ea60e",
        "colab": {
          "base_uri": "https://localhost:8080/",
          "height": 460
        }
      },
      "source": [
        "%%html\n",
        "<!DOCTYPE html>\n",
        "<html>\n",
        "\n",
        "  <head>\n",
        "    <meta charset=\"utf-8\">\n",
        "    <title>Black Goose Bistro</title>\n",
        "    <style>\n",
        "      body {\n",
        "        background-color: #faf2e4;\n",
        "        margin: 0 10%;\n",
        "        font-family: sans-serif;\n",
        "        }\n",
        "\n",
        "      h1 {\n",
        "        text-align: center;\n",
        "        font-family: serif;\n",
        "        font-weight: normal;\n",
        "        text-transform: uppercase;\n",
        "        border-bottom: 1px solid #57b1dc;\n",
        "        margin-top: 30px;\n",
        "      }\n",
        "\n",
        "      h2 {\n",
        "        color: #d1633c;\n",
        "        font-size: 1em;\n",
        "      }\n",
        "\n",
        "    </style>\n",
        "  </head>\n",
        "\n",
        "  <body>\n",
        "\n",
        "    <h1><img src=\"http://learningwebdesign.com/4e/materials/chapter04/bistro/blackgoose.png\" alt=\"logo\"><br>Black Goose Bistro</h1>\n",
        "\n",
        "    <h2>The Restaurant</h2>\n",
        "    <p>The Black Goose Bistro offers casual lunch and dinner fare in a relaxed atmosphere. The menu changes regularly to highlight the freshest local ingredients.</p>\n",
        "\n",
        "    <h2>Catering</h2>\n",
        "    <p>You have fun. <em>We'll handle the cooking.</em> Black Goose Catering can handle events from snacks for a meetup to elegant corporate fundraisers.</p>\n",
        "\n",
        "    <h2>Location and Hours</h2>\n",
        "    <p>Seekonk, Massachusetts;<br>\n",
        "    Monday through Thursday 11am to 9pm; <br>Friday and Saturday, 11am to midnight</p>\n",
        "\n",
        "  </body>\n",
        "\n",
        "</html>"
      ],
      "execution_count": null,
      "outputs": [
        {
          "output_type": "display_data",
          "data": {
            "text/html": [
              "<!DOCTYPE html>\n",
              "<html>\n",
              "\n",
              "  <head>\n",
              "    <meta charset=\"utf-8\">\n",
              "    <title>Black Goose Bistro</title>\n",
              "    <style>\n",
              "      body {\n",
              "        background-color: #faf2e4;\n",
              "        margin: 0 10%;\n",
              "        font-family: sans-serif;\n",
              "        }\n",
              "\n",
              "      h1 {\n",
              "        text-align: center;\n",
              "        font-family: serif;\n",
              "        font-weight: normal;\n",
              "        text-transform: uppercase;\n",
              "        border-bottom: 1px solid #57b1dc;\n",
              "        margin-top: 30px;\n",
              "      }\n",
              "\n",
              "      h2 {\n",
              "        color: #d1633c;\n",
              "        font-size: 1em;\n",
              "      }\n",
              "\n",
              "    </style>\n",
              "  </head>\n",
              "\n",
              "  <body>\n",
              "\n",
              "    <h1><img src=\"http://learningwebdesign.com/4e/materials/chapter04/bistro/blackgoose.png\" alt=\"logo\"><br>Black Goose Bistro</h1>\n",
              "\n",
              "    <h2>The Restaurant</h2>\n",
              "    <p>The Black Goose Bistro offers casual lunch and dinner fare in a relaxed atmosphere. The menu changes regularly to highlight the freshest local ingredients.</p>\n",
              "\n",
              "    <h2>Catering</h2>\n",
              "    <p>You have fun. <em>We'll handle the cooking.</em> Black Goose Catering can handle events from snacks for a meetup to elegant corporate fundraisers.</p>\n",
              "\n",
              "    <h2>Location and Hours</h2>\n",
              "    <p>Seekonk, Massachusetts;<br>\n",
              "    Monday through Thursday 11am to 9pm; <br>Friday and Saturday, 11am to midnight</p>\n",
              "\n",
              "  </body>\n",
              "\n",
              "</html>"
            ],
            "text/plain": [
              "<IPython.core.display.HTML object>"
            ]
          },
          "metadata": {
            "tags": []
          }
        }
      ]
    }
  ]
}