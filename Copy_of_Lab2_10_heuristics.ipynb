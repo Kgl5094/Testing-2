{
  "nbformat": 4,
  "nbformat_minor": 0,
  "metadata": {
    "colab": {
      "name": "Copy of Lab2 -10 heuristics.ipynb",
      "provenance": [],
      "include_colab_link": true
    },
    "kernelspec": {
      "name": "python3",
      "display_name": "Python 3"
    }
  },
  "cells": [
    {
      "cell_type": "markdown",
      "metadata": {
        "id": "view-in-github",
        "colab_type": "text"
      },
      "source": [
        "<a href=\"https://colab.research.google.com/github/Kgl5094/Testing-2/blob/main/Copy_of_Lab2_10_heuristics.ipynb\" target=\"_parent\"><img src=\"https://colab.research.google.com/assets/colab-badge.svg\" alt=\"Open In Colab\"/></a>"
      ]
    },
    {
      "cell_type": "markdown",
      "metadata": {
        "id": "6JgrRYtyWUTc"
      },
      "source": [
        "# Ten Usability Heuristics\n",
        "\n",
        "### Developed by Jakob Nielsen\n",
        "\n",
        "Filled out by: Emma Swayze, Kira Lorraine, and Marielle Edgcumbe"
      ]
    },
    {
      "cell_type": "markdown",
      "metadata": {
        "id": "ep30Q_iPWdnT"
      },
      "source": [
        "For our lab, we will be evaluating the ten heuristics using the following webpage: \n",
        "\n",
        "- [Target.com](https://www.target.com/)"
      ]
    },
    {
      "cell_type": "markdown",
      "metadata": {
        "id": "p1w1Wmt5WuFD"
      },
      "source": [
        "### Visibility of system status\n",
        "The system should always keep users informed about what is going on, through appropriate feedback within reasonable time.\n",
        "\n",
        "![](https://raw.githubusercontent.com/Kgl5094/IST250-Lab2/master/Images/1.png)\n",
        "![](https://raw.githubusercontent.com/Kgl5094/IST250-Lab2/master/Images/3.1.png)\n",
        "- The Target website does a decent job when it comes to visibility of system status. There is a revolving circle when switching between pages to show the act of “loading”. The Target website loads very quickly and efficiently so it was tough to get a screenshot of this loading circle. Other than that, there is not much informational feedback shown other than after an item is added to the cart or when an item has been successfully purchased. This feedback is based on what the user has done, not necessarily what the system has done. Target should provide more accurate feedback on what the system is doing, in order to keep the user informed of their actions at all times during system use. \n"
      ]
    },
    {
      "cell_type": "markdown",
      "metadata": {
        "id": "gL-x1q02W1Vk"
      },
      "source": [
        "### Match between system and the real world\n",
        "The system should speak the users' language, with words, phrases and concepts familiar to the user, rather than system-oriented terms. Follow real-world conventions, making information appear in a natural and logical order.\n",
        "\n",
        "![](https://raw.githubusercontent.com/Kgl5094/IST250-Lab2/master/Images/2.png) \n",
        "\n",
        "- The shopping cart feature on Target’s website mimics the real-world act of shopping at Target in person. This feature helps the user to feel comfortable and familiar using the online shopping features. The shopping cart page is laid out strategically to show each item within the cart as well as the order summary. The big red button “I am ready to check out” is easily visible to the user, as well as each item in the cart. The match between the system and the real world is a key element in user design which allows the customer to feel content with the usability of the website, with little additional learning involved."
      ]
    },
    {
      "cell_type": "markdown",
      "metadata": {
        "id": "p9WB5-rtZd9I"
      },
      "source": [
        "### User control and freedom\n",
        "Users often choose system functions by mistake and will need a clearly marked \"emergency exit\" to leave the unwanted state without having to go through an extended dialogue. Support undo and redo.\n",
        "\n",
        "![](https://raw.githubusercontent.com/Kgl5094/IST250-Lab2/master/Images/3.1.png)\n",
        "![](https://raw.githubusercontent.com/Kgl5094/IST250-Lab2/master/Images/3.2.png)\n",
        "\n",
        "- On the target website, there are not many clearly marked exits to undo a user action. If a user clicks upon the wrong page by mistake, there are many different tabs at the top of the screen to choose from as a redirect. However, there is no direct “undo” feature provided. The website delivers a confirmation message when the user adds an item to their cart, but no available undo feature at that exact moment of possible mistake. The only undo function I encountered was within the shopping cart feature. Only after mistakenly adding something to the cart, within the cart feature there is an option to remove an unwanted item from the cart symbolized as an “X”. Target’s website could use some more clearly executed undo functions to allow user control and freedom. \n"
      ]
    },
    {
      "cell_type": "markdown",
      "metadata": {
        "id": "lX7j0pZ8Zedg"
      },
      "source": [
        "### Consistency and standards\n",
        "Users should not have to wonder whether different words, situations, or actions mean the same thing. Follow platform conventions.\n",
        "\n",
        "![](https://raw.githubusercontent.com/Kgl5094/IST250-Lab2/master/Images/4.png)\n",
        "\n",
        "- The screenshot is a picture of Target’s current home page. It adheres to external consistency because located in the top right hand corner, there is a shopping cart icon. This is a standard icon used and the placement of this icon is consistent across numerous web pages that users shop on. This makes it easier for users to navigate Target’s website, even if they are new customers. By placing this familiar icon in the standard spot that websites put it, the user doesn’t have to spend time searching for it.\n"
      ]
    },
    {
      "cell_type": "markdown",
      "metadata": {
        "id": "ER6ArHdmZfSI"
      },
      "source": [
        "### Error prevention\n",
        "Even better than good error messages is a careful design which prevents a problem from occurring in the first place. Either eliminate error-prone conditions or check for them and present users with a confirmation option before they commit to the action.\n",
        "\n",
        "![](https://raw.githubusercontent.com/Kgl5094/IST250-Lab2/master/Images/1.png)\n",
        "\n",
        "- When placing an order, throughout the process there were spots to verify the card number, but after clicking the button to place the order, there was no confirmation message. There also wasn’t a clear place to review the items in the cart, so there could have been an accidental purchase of a product that wasn’t intentional. This failed to meet the error prevention heuristic. There is, however, a note underneath the message in the picture that indicates where to go on the site if changes need to be made.\n"
      ]
    },
    {
      "cell_type": "markdown",
      "metadata": {
        "id": "9M3cqXkLZf7B"
      },
      "source": [
        "### Recognition rather than recall\n",
        "Error messages should be expressed in plain language (no codes), precisely indicate the problem, and constructively suggest a solution.\n",
        "\n",
        "![](https://raw.githubusercontent.com/Kgl5094/IST250-Lab2/master/Images/6.png)\n",
        "\n",
        "- The keychain feature on computers and smart devices helps users log into their accounts faster. Rather than trying to recall their email and password, keychain saves this information that is specific to the target website. This means that every time the user goes to log in, their information appears for them. They can then check to make sure it is their email and log in with ease. \n"
      ]
    },
    {
      "cell_type": "markdown",
      "metadata": {
        "id": "B4xOtXMWZgfp"
      },
      "source": [
        "### Flexibility and efficiency of use \n",
        "Accelerators -- unseen by the novice user -- may often speed up the interaction for the expert user such that the system can cater to both inexperienced and experienced users. Allow users to tailor frequent actions.\n",
        "\n",
        "![](https://raw.githubusercontent.com/Kgl5094/IST250-Lab2/master/Images/7.png)\n",
        "\n",
        "- The categories tab helps speed up the process of users trying to find what they’re looking for. To a frequent shopper, they may be familiar with the categories listed, but a new customer may not know the different categories that target has for its products. Both inexperienced and experienced users can easily navigate through the web page.Because there are subcategories, the categories tab is very efficient and helps users locate a product they are searching for. \n"
      ]
    },
    {
      "cell_type": "markdown",
      "metadata": {
        "id": "F968s-f-ZhGA"
      },
      "source": [
        "### Aesthetic and minimalist design\n",
        "Dialogues should not contain information which is irrelevant or rarely needed. Every extra unit of information in a dialogue competes with the relevant units of information and diminishes their relative visibility.\n",
        "\n",
        "![](https://raw.githubusercontent.com/Kgl5094/IST250-Lab2/master/Images/8.png)\n",
        "\n",
        "- Target’s online shopping system eliminates a lot of excess options during shopping by nesting dropdowns within dropdowns and giving the user many ways to narrow down their search. By searching “folder,” the user is given the options to specify by brand, pronged or prongless, and specific folder types for differing usage. While the many lists do take up a bit of space while shopping, only relevant categories are displayed and the main interface with the actual options is still most prominent in the page. "
      ]
    },
    {
      "cell_type": "markdown",
      "metadata": {
        "id": "WFtkqJ8wZhjx"
      },
      "source": [
        "### Help users recognize, diagnose, and recover from errors\n",
        "Error messages should be expressed in plain language (no codes), precisely indicate the problem, and constructively suggest a solution.\n",
        "\n",
        "![9](https://raw.githubusercontent.com/Kgl5094/IST250-Lab2/master/Images/9.png)\n",
        "\n",
        "- To test errors, I intentionally put in the cart an item for shipping that was not available and one with a condition. The first item was not available via normal shipping and I was not allowed to choose the option at all (which is part of error prevention). The second item in the cart is a 50 cent folder. The notice at the top of the cart is colored differently, drawing the eye to it, and clearly states that I would not be able to check out as items only ship with orders over 35 dollars. It then provides two options to rectify the problem, even giving the exact total I’d need to meet 35 dollars. "
      ]
    },
    {
      "cell_type": "markdown",
      "metadata": {
        "id": "x8_uAFYHZifo"
      },
      "source": [
        "### Help and documentation\n",
        "Even though it is better if the system can be used without documentation, it may be necessary to provide help and documentation. Any such information should be easy to search, focused on the user's task, list concrete steps to be carried out, and not be too large.\n",
        "\n",
        "![10](https://raw.githubusercontent.com/Kgl5094/IST250-Lab2/master/Images/10.png)\n",
        "\n",
        "- To find the official help page of the website, users need to scroll all the way down to the bottom of the page and find a small link with a few common questions and an option for the full menu. The page is hard to find, kept in a corner and is more easily found via google search. The screenshot is the full menu page. Commonly asked questions are prominently shown as large buttons which allows users to quickly find answers. The answers are clearly labelled with steps to fix the problem. Searching the help page itself is informational as it pulls up any previously answered inquiries that might be relevant.\n"
      ]
    }
    {
      "cell_type": "markdown",
      "metadata": {
        "id": "A link. who cares"
      },
      "source": [
        "["Insert Link Here"](/OurFirstHTML.ipynb)\n",
      ]
    },
  ]
}
